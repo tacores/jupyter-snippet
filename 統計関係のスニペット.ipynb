{
 "cells": [
  {
   "cell_type": "markdown",
   "id": "9ebc70e1-1e46-45a1-9287-bdf3e32e5ea2",
   "metadata": {},
   "source": [
    "# 統計関係のスニペット"
   ]
  },
  {
   "cell_type": "markdown",
   "id": "d965ec79-5f42-4403-8c68-50b8dcbec5fc",
   "metadata": {},
   "source": [
    "## ライブラリインポート  \n",
    "※未インストールの場合は、ノート上で !pip install numpy のようにインストールできる。"
   ]
  },
  {
   "cell_type": "code",
   "execution_count": 1,
   "id": "1c5787fc-7f2f-4312-9969-fee50bfb79b3",
   "metadata": {},
   "outputs": [],
   "source": [
    "import pandas as pd\n",
    "import numpy as np\n",
    "import seaborn as sns\n",
    "from scipy import stats"
   ]
  },
  {
   "cell_type": "markdown",
   "id": "0d5a3016-ecc2-4179-88a1-63d3ceec63f2",
   "metadata": {},
   "source": [
    "## サンプルデータロード"
   ]
  },
  {
   "cell_type": "code",
   "execution_count": 2,
   "id": "d3dacda0-7db6-410b-a26a-1817fffa455f",
   "metadata": {},
   "outputs": [],
   "source": [
    "df = pd.read_csv('data/modified_c4_epa_air_quality.csv')"
   ]
  },
  {
   "cell_type": "code",
   "execution_count": 3,
   "id": "41713cac-0b3e-4b4b-b595-af1662117c65",
   "metadata": {
    "scrolled": true
   },
   "outputs": [
    {
     "data": {
      "text/html": [
       "<div>\n",
       "<style scoped>\n",
       "    .dataframe tbody tr th:only-of-type {\n",
       "        vertical-align: middle;\n",
       "    }\n",
       "\n",
       "    .dataframe tbody tr th {\n",
       "        vertical-align: top;\n",
       "    }\n",
       "\n",
       "    .dataframe thead th {\n",
       "        text-align: right;\n",
       "    }\n",
       "</style>\n",
       "<table border=\"1\" class=\"dataframe\">\n",
       "  <thead>\n",
       "    <tr style=\"text-align: right;\">\n",
       "      <th></th>\n",
       "      <th>date_local</th>\n",
       "      <th>state_name</th>\n",
       "      <th>county_name</th>\n",
       "      <th>city_name</th>\n",
       "      <th>local_site_name</th>\n",
       "      <th>parameter_name</th>\n",
       "      <th>units_of_measure</th>\n",
       "      <th>aqi_log</th>\n",
       "    </tr>\n",
       "  </thead>\n",
       "  <tbody>\n",
       "    <tr>\n",
       "      <th>0</th>\n",
       "      <td>2018-01-01</td>\n",
       "      <td>Arizona</td>\n",
       "      <td>Maricopa</td>\n",
       "      <td>Buckeye</td>\n",
       "      <td>BUCKEYE</td>\n",
       "      <td>Carbon monoxide</td>\n",
       "      <td>Parts per million</td>\n",
       "      <td>2.079442</td>\n",
       "    </tr>\n",
       "    <tr>\n",
       "      <th>1</th>\n",
       "      <td>2018-01-01</td>\n",
       "      <td>Ohio</td>\n",
       "      <td>Belmont</td>\n",
       "      <td>Shadyside</td>\n",
       "      <td>Shadyside</td>\n",
       "      <td>Carbon monoxide</td>\n",
       "      <td>Parts per million</td>\n",
       "      <td>1.791759</td>\n",
       "    </tr>\n",
       "    <tr>\n",
       "      <th>2</th>\n",
       "      <td>2018-01-01</td>\n",
       "      <td>Wyoming</td>\n",
       "      <td>Teton</td>\n",
       "      <td>Not in a city</td>\n",
       "      <td>Yellowstone National Park - Old Faithful Snow ...</td>\n",
       "      <td>Carbon monoxide</td>\n",
       "      <td>Parts per million</td>\n",
       "      <td>1.098612</td>\n",
       "    </tr>\n",
       "    <tr>\n",
       "      <th>3</th>\n",
       "      <td>2018-01-01</td>\n",
       "      <td>Pennsylvania</td>\n",
       "      <td>Philadelphia</td>\n",
       "      <td>Philadelphia</td>\n",
       "      <td>North East Waste (NEW)</td>\n",
       "      <td>Carbon monoxide</td>\n",
       "      <td>Parts per million</td>\n",
       "      <td>1.386294</td>\n",
       "    </tr>\n",
       "    <tr>\n",
       "      <th>4</th>\n",
       "      <td>2018-01-01</td>\n",
       "      <td>Iowa</td>\n",
       "      <td>Polk</td>\n",
       "      <td>Des Moines</td>\n",
       "      <td>CARPENTER</td>\n",
       "      <td>Carbon monoxide</td>\n",
       "      <td>Parts per million</td>\n",
       "      <td>1.386294</td>\n",
       "    </tr>\n",
       "  </tbody>\n",
       "</table>\n",
       "</div>"
      ],
      "text/plain": [
       "   date_local    state_name   county_name      city_name   \n",
       "0  2018-01-01       Arizona      Maricopa        Buckeye  \\\n",
       "1  2018-01-01          Ohio       Belmont      Shadyside   \n",
       "2  2018-01-01       Wyoming         Teton  Not in a city   \n",
       "3  2018-01-01  Pennsylvania  Philadelphia   Philadelphia   \n",
       "4  2018-01-01          Iowa          Polk     Des Moines   \n",
       "\n",
       "                                     local_site_name   parameter_name   \n",
       "0                                            BUCKEYE  Carbon monoxide  \\\n",
       "1                                          Shadyside  Carbon monoxide   \n",
       "2  Yellowstone National Park - Old Faithful Snow ...  Carbon monoxide   \n",
       "3                             North East Waste (NEW)  Carbon monoxide   \n",
       "4                                          CARPENTER  Carbon monoxide   \n",
       "\n",
       "    units_of_measure   aqi_log  \n",
       "0  Parts per million  2.079442  \n",
       "1  Parts per million  1.791759  \n",
       "2  Parts per million  1.098612  \n",
       "3  Parts per million  1.386294  \n",
       "4  Parts per million  1.386294  "
      ]
     },
     "execution_count": 3,
     "metadata": {},
     "output_type": "execute_result"
    }
   ],
   "source": [
    "df.head(5)"
   ]
  },
  {
   "cell_type": "markdown",
   "id": "669fb9cd-71b2-4ea4-9ead-172c92116fde",
   "metadata": {},
   "source": [
    "## データ確認"
   ]
  },
  {
   "cell_type": "code",
   "execution_count": 4,
   "id": "81640b51-105c-4e16-858f-f7f1c0656c3f",
   "metadata": {},
   "outputs": [
    {
     "data": {
      "text/plain": [
       "(260, 8)"
      ]
     },
     "execution_count": 4,
     "metadata": {},
     "output_type": "execute_result"
    }
   ],
   "source": [
    "df.shape"
   ]
  },
  {
   "cell_type": "code",
   "execution_count": 5,
   "id": "ece0abe2-56ba-4507-b5a5-2762a3966f60",
   "metadata": {},
   "outputs": [
    {
     "data": {
      "text/html": [
       "<div>\n",
       "<style scoped>\n",
       "    .dataframe tbody tr th:only-of-type {\n",
       "        vertical-align: middle;\n",
       "    }\n",
       "\n",
       "    .dataframe tbody tr th {\n",
       "        vertical-align: top;\n",
       "    }\n",
       "\n",
       "    .dataframe thead th {\n",
       "        text-align: right;\n",
       "    }\n",
       "</style>\n",
       "<table border=\"1\" class=\"dataframe\">\n",
       "  <thead>\n",
       "    <tr style=\"text-align: right;\">\n",
       "      <th></th>\n",
       "      <th>date_local</th>\n",
       "      <th>state_name</th>\n",
       "      <th>county_name</th>\n",
       "      <th>city_name</th>\n",
       "      <th>local_site_name</th>\n",
       "      <th>parameter_name</th>\n",
       "      <th>units_of_measure</th>\n",
       "      <th>aqi_log</th>\n",
       "    </tr>\n",
       "  </thead>\n",
       "  <tbody>\n",
       "    <tr>\n",
       "      <th>count</th>\n",
       "      <td>260</td>\n",
       "      <td>260</td>\n",
       "      <td>260</td>\n",
       "      <td>260</td>\n",
       "      <td>257</td>\n",
       "      <td>260</td>\n",
       "      <td>260</td>\n",
       "      <td>260.000000</td>\n",
       "    </tr>\n",
       "    <tr>\n",
       "      <th>unique</th>\n",
       "      <td>1</td>\n",
       "      <td>52</td>\n",
       "      <td>149</td>\n",
       "      <td>190</td>\n",
       "      <td>253</td>\n",
       "      <td>1</td>\n",
       "      <td>1</td>\n",
       "      <td>NaN</td>\n",
       "    </tr>\n",
       "    <tr>\n",
       "      <th>top</th>\n",
       "      <td>2018-01-01</td>\n",
       "      <td>California</td>\n",
       "      <td>Los Angeles</td>\n",
       "      <td>Not in a city</td>\n",
       "      <td>Kapolei</td>\n",
       "      <td>Carbon monoxide</td>\n",
       "      <td>Parts per million</td>\n",
       "      <td>NaN</td>\n",
       "    </tr>\n",
       "    <tr>\n",
       "      <th>freq</th>\n",
       "      <td>260</td>\n",
       "      <td>66</td>\n",
       "      <td>14</td>\n",
       "      <td>21</td>\n",
       "      <td>2</td>\n",
       "      <td>260</td>\n",
       "      <td>260</td>\n",
       "      <td>NaN</td>\n",
       "    </tr>\n",
       "    <tr>\n",
       "      <th>mean</th>\n",
       "      <td>NaN</td>\n",
       "      <td>NaN</td>\n",
       "      <td>NaN</td>\n",
       "      <td>NaN</td>\n",
       "      <td>NaN</td>\n",
       "      <td>NaN</td>\n",
       "      <td>NaN</td>\n",
       "      <td>1.766921</td>\n",
       "    </tr>\n",
       "    <tr>\n",
       "      <th>std</th>\n",
       "      <td>NaN</td>\n",
       "      <td>NaN</td>\n",
       "      <td>NaN</td>\n",
       "      <td>NaN</td>\n",
       "      <td>NaN</td>\n",
       "      <td>NaN</td>\n",
       "      <td>NaN</td>\n",
       "      <td>0.714716</td>\n",
       "    </tr>\n",
       "    <tr>\n",
       "      <th>min</th>\n",
       "      <td>NaN</td>\n",
       "      <td>NaN</td>\n",
       "      <td>NaN</td>\n",
       "      <td>NaN</td>\n",
       "      <td>NaN</td>\n",
       "      <td>NaN</td>\n",
       "      <td>NaN</td>\n",
       "      <td>0.000000</td>\n",
       "    </tr>\n",
       "    <tr>\n",
       "      <th>25%</th>\n",
       "      <td>NaN</td>\n",
       "      <td>NaN</td>\n",
       "      <td>NaN</td>\n",
       "      <td>NaN</td>\n",
       "      <td>NaN</td>\n",
       "      <td>NaN</td>\n",
       "      <td>NaN</td>\n",
       "      <td>1.098612</td>\n",
       "    </tr>\n",
       "    <tr>\n",
       "      <th>50%</th>\n",
       "      <td>NaN</td>\n",
       "      <td>NaN</td>\n",
       "      <td>NaN</td>\n",
       "      <td>NaN</td>\n",
       "      <td>NaN</td>\n",
       "      <td>NaN</td>\n",
       "      <td>NaN</td>\n",
       "      <td>1.791759</td>\n",
       "    </tr>\n",
       "    <tr>\n",
       "      <th>75%</th>\n",
       "      <td>NaN</td>\n",
       "      <td>NaN</td>\n",
       "      <td>NaN</td>\n",
       "      <td>NaN</td>\n",
       "      <td>NaN</td>\n",
       "      <td>NaN</td>\n",
       "      <td>NaN</td>\n",
       "      <td>2.302585</td>\n",
       "    </tr>\n",
       "    <tr>\n",
       "      <th>max</th>\n",
       "      <td>NaN</td>\n",
       "      <td>NaN</td>\n",
       "      <td>NaN</td>\n",
       "      <td>NaN</td>\n",
       "      <td>NaN</td>\n",
       "      <td>NaN</td>\n",
       "      <td>NaN</td>\n",
       "      <td>3.931826</td>\n",
       "    </tr>\n",
       "  </tbody>\n",
       "</table>\n",
       "</div>"
      ],
      "text/plain": [
       "        date_local  state_name  county_name      city_name local_site_name   \n",
       "count          260         260          260            260             257  \\\n",
       "unique           1          52          149            190             253   \n",
       "top     2018-01-01  California  Los Angeles  Not in a city         Kapolei   \n",
       "freq           260          66           14             21               2   \n",
       "mean           NaN         NaN          NaN            NaN             NaN   \n",
       "std            NaN         NaN          NaN            NaN             NaN   \n",
       "min            NaN         NaN          NaN            NaN             NaN   \n",
       "25%            NaN         NaN          NaN            NaN             NaN   \n",
       "50%            NaN         NaN          NaN            NaN             NaN   \n",
       "75%            NaN         NaN          NaN            NaN             NaN   \n",
       "max            NaN         NaN          NaN            NaN             NaN   \n",
       "\n",
       "         parameter_name   units_of_measure     aqi_log  \n",
       "count               260                260  260.000000  \n",
       "unique                1                  1         NaN  \n",
       "top     Carbon monoxide  Parts per million         NaN  \n",
       "freq                260                260         NaN  \n",
       "mean                NaN                NaN    1.766921  \n",
       "std                 NaN                NaN    0.714716  \n",
       "min                 NaN                NaN    0.000000  \n",
       "25%                 NaN                NaN    1.098612  \n",
       "50%                 NaN                NaN    1.791759  \n",
       "75%                 NaN                NaN    2.302585  \n",
       "max                 NaN                NaN    3.931826  "
      ]
     },
     "execution_count": 5,
     "metadata": {},
     "output_type": "execute_result"
    }
   ],
   "source": [
    "df.describe(include='all')"
   ]
  },
  {
   "cell_type": "markdown",
   "id": "3b5ccad0-4285-4a9d-8e8f-7e1c7601628f",
   "metadata": {},
   "source": [
    "## 欠損値（N/A）確認"
   ]
  },
  {
   "cell_type": "code",
   "execution_count": 6,
   "id": "1273db8a-a0b7-4972-9be3-ced558a128c3",
   "metadata": {},
   "outputs": [
    {
     "data": {
      "text/plain": [
       "date_local          0\n",
       "state_name          0\n",
       "county_name         0\n",
       "city_name           0\n",
       "local_site_name     3\n",
       "parameter_name      0\n",
       "units_of_measure    0\n",
       "aqi_log             0\n",
       "dtype: int64"
      ]
     },
     "execution_count": 6,
     "metadata": {},
     "output_type": "execute_result"
    }
   ],
   "source": [
    "df.isna().sum()"
   ]
  },
  {
   "cell_type": "markdown",
   "id": "e523f59d-774b-40ba-b1c8-cada18f0acd7",
   "metadata": {},
   "source": [
    "→ local_site_name に3件の欠損値を確認"
   ]
  },
  {
   "cell_type": "markdown",
   "id": "23303d72-b6f3-4725-832e-45bfefbe9a6d",
   "metadata": {},
   "source": [
    "### 欠損値を含む行だけを表示"
   ]
  },
  {
   "cell_type": "code",
   "execution_count": 7,
   "id": "b8778140-6754-474f-809f-8c12ec766c3e",
   "metadata": {
    "scrolled": true
   },
   "outputs": [
    {
     "data": {
      "text/html": [
       "<div>\n",
       "<style scoped>\n",
       "    .dataframe tbody tr th:only-of-type {\n",
       "        vertical-align: middle;\n",
       "    }\n",
       "\n",
       "    .dataframe tbody tr th {\n",
       "        vertical-align: top;\n",
       "    }\n",
       "\n",
       "    .dataframe thead th {\n",
       "        text-align: right;\n",
       "    }\n",
       "</style>\n",
       "<table border=\"1\" class=\"dataframe\">\n",
       "  <thead>\n",
       "    <tr style=\"text-align: right;\">\n",
       "      <th></th>\n",
       "      <th>date_local</th>\n",
       "      <th>state_name</th>\n",
       "      <th>county_name</th>\n",
       "      <th>city_name</th>\n",
       "      <th>local_site_name</th>\n",
       "      <th>parameter_name</th>\n",
       "      <th>units_of_measure</th>\n",
       "      <th>aqi_log</th>\n",
       "    </tr>\n",
       "  </thead>\n",
       "  <tbody>\n",
       "    <tr>\n",
       "      <th>7</th>\n",
       "      <td>2018-01-01</td>\n",
       "      <td>Pennsylvania</td>\n",
       "      <td>Erie</td>\n",
       "      <td>Erie</td>\n",
       "      <td>NaN</td>\n",
       "      <td>Carbon monoxide</td>\n",
       "      <td>Parts per million</td>\n",
       "      <td>1.098612</td>\n",
       "    </tr>\n",
       "    <tr>\n",
       "      <th>55</th>\n",
       "      <td>2018-01-01</td>\n",
       "      <td>West Virginia</td>\n",
       "      <td>Kanawha</td>\n",
       "      <td>Charleston</td>\n",
       "      <td>NaN</td>\n",
       "      <td>Carbon monoxide</td>\n",
       "      <td>Parts per million</td>\n",
       "      <td>1.386294</td>\n",
       "    </tr>\n",
       "    <tr>\n",
       "      <th>258</th>\n",
       "      <td>2018-01-01</td>\n",
       "      <td>Nebraska</td>\n",
       "      <td>Douglas</td>\n",
       "      <td>Omaha</td>\n",
       "      <td>NaN</td>\n",
       "      <td>Carbon monoxide</td>\n",
       "      <td>Parts per million</td>\n",
       "      <td>2.302585</td>\n",
       "    </tr>\n",
       "  </tbody>\n",
       "</table>\n",
       "</div>"
      ],
      "text/plain": [
       "     date_local     state_name county_name   city_name local_site_name   \n",
       "7    2018-01-01   Pennsylvania        Erie        Erie             NaN  \\\n",
       "55   2018-01-01  West Virginia     Kanawha  Charleston             NaN   \n",
       "258  2018-01-01       Nebraska     Douglas       Omaha             NaN   \n",
       "\n",
       "      parameter_name   units_of_measure   aqi_log  \n",
       "7    Carbon monoxide  Parts per million  1.098612  \n",
       "55   Carbon monoxide  Parts per million  1.386294  \n",
       "258  Carbon monoxide  Parts per million  2.302585  "
      ]
     },
     "execution_count": 7,
     "metadata": {},
     "output_type": "execute_result"
    }
   ],
   "source": [
    "df[df.isna().any(axis=1)]"
   ]
  },
  {
   "cell_type": "markdown",
   "id": "0b4c5fb5-226d-4a0a-932f-c9efc339649a",
   "metadata": {},
   "source": [
    "### local_site_name が NaN の場合、city_name の値を入れるようにする（axis=1）"
   ]
  },
  {
   "cell_type": "code",
   "execution_count": 8,
   "id": "a29dc60b-6990-4e1f-bbce-0f14cff4d32d",
   "metadata": {},
   "outputs": [
    {
     "data": {
      "text/html": [
       "<div>\n",
       "<style scoped>\n",
       "    .dataframe tbody tr th:only-of-type {\n",
       "        vertical-align: middle;\n",
       "    }\n",
       "\n",
       "    .dataframe tbody tr th {\n",
       "        vertical-align: top;\n",
       "    }\n",
       "\n",
       "    .dataframe thead th {\n",
       "        text-align: right;\n",
       "    }\n",
       "</style>\n",
       "<table border=\"1\" class=\"dataframe\">\n",
       "  <thead>\n",
       "    <tr style=\"text-align: right;\">\n",
       "      <th></th>\n",
       "      <th>date_local</th>\n",
       "      <th>state_name</th>\n",
       "      <th>county_name</th>\n",
       "      <th>city_name</th>\n",
       "      <th>local_site_name</th>\n",
       "      <th>parameter_name</th>\n",
       "      <th>units_of_measure</th>\n",
       "      <th>aqi_log</th>\n",
       "    </tr>\n",
       "  </thead>\n",
       "  <tbody>\n",
       "  </tbody>\n",
       "</table>\n",
       "</div>"
      ],
      "text/plain": [
       "Empty DataFrame\n",
       "Columns: [date_local, state_name, county_name, city_name, local_site_name, parameter_name, units_of_measure, aqi_log]\n",
       "Index: []"
      ]
     },
     "execution_count": 8,
     "metadata": {},
     "output_type": "execute_result"
    }
   ],
   "source": [
    "df = df.fillna(method='ffill', axis=1)\n",
    "df[df.isna().any(axis=1)]"
   ]
  },
  {
   "cell_type": "markdown",
   "id": "7054c0b3-0732-4bab-8541-b60c791be891",
   "metadata": {},
   "source": [
    "## ヒストグラム表示"
   ]
  },
  {
   "cell_type": "code",
   "execution_count": 9,
   "id": "090e7242-6be6-4aef-a451-75b0c85e042d",
   "metadata": {},
   "outputs": [
    {
     "data": {
      "text/plain": [
       "<Axes: >"
      ]
     },
     "execution_count": 9,
     "metadata": {},
     "output_type": "execute_result"
    },
    {
     "data": {
      "image/png": "[encoded data removed]",
      "text/plain": [
       "<Figure size 640x480 with 1 Axes>"
      ]
     },
     "metadata": {},
     "output_type": "display_data"
    }
   ],
   "source": [
    "df['aqi_log'].hist()"
   ]
  },
  {
   "cell_type": "markdown",
   "id": "fcf08508-d0f5-4d41-ba5b-c6aedf46979c",
   "metadata": {},
   "source": [
    "## 記述統計"
   ]
  },
  {
   "cell_type": "code",
   "execution_count": 10,
   "id": "aeb56510-160d-4e27-813c-8de96c16c126",
   "metadata": {},
   "outputs": [
    {
     "name": "stdout",
     "output_type": "stream",
     "text": [
      "最小値 0.0\n",
      "最大値 3.9318256327243257\n",
      "平均 1.7669210929985577\n",
      "標準偏差 0.7147155520223721\n"
     ]
    }
   ],
   "source": [
    "min_aqi_log = df['aqi_log'].min()\n",
    "max_aqi_log = df['aqi_log'].max()\n",
    "mean_aqi_log = df['aqi_log'].mean()\n",
    "std_aqi_log = df['aqi_log'].std()\n",
    "\n",
    "print('最小値', min_aqi_log)\n",
    "print('最大値', max_aqi_log)\n",
    "print('平均', mean_aqi_log)\n",
    "print('標準偏差', std_aqi_log)"
   ]
  },
  {
   "cell_type": "markdown",
   "id": "8da497d9-355e-481b-bc36-8df2efe82eb5",
   "metadata": {},
   "source": [
    "### Zスコア"
   ]
  },
  {
   "cell_type": "code",
   "execution_count": 11,
   "id": "34839879-ba3e-47a8-8c4e-2ac135fc1156",
   "metadata": {},
   "outputs": [
    {
     "data": {
      "text/html": [
       "<div>\n",
       "<style scoped>\n",
       "    .dataframe tbody tr th:only-of-type {\n",
       "        vertical-align: middle;\n",
       "    }\n",
       "\n",
       "    .dataframe tbody tr th {\n",
       "        vertical-align: top;\n",
       "    }\n",
       "\n",
       "    .dataframe thead th {\n",
       "        text-align: right;\n",
       "    }\n",
       "</style>\n",
       "<table border=\"1\" class=\"dataframe\">\n",
       "  <thead>\n",
       "    <tr style=\"text-align: right;\">\n",
       "      <th></th>\n",
       "      <th>date_local</th>\n",
       "      <th>state_name</th>\n",
       "      <th>county_name</th>\n",
       "      <th>city_name</th>\n",
       "      <th>local_site_name</th>\n",
       "      <th>parameter_name</th>\n",
       "      <th>units_of_measure</th>\n",
       "      <th>aqi_log</th>\n",
       "      <th>z-score</th>\n",
       "    </tr>\n",
       "  </thead>\n",
       "  <tbody>\n",
       "    <tr>\n",
       "      <th>0</th>\n",
       "      <td>2018-01-01</td>\n",
       "      <td>Arizona</td>\n",
       "      <td>Maricopa</td>\n",
       "      <td>Buckeye</td>\n",
       "      <td>BUCKEYE</td>\n",
       "      <td>Carbon monoxide</td>\n",
       "      <td>Parts per million</td>\n",
       "      <td>2.079442</td>\n",
       "      <td>0.438109</td>\n",
       "    </tr>\n",
       "    <tr>\n",
       "      <th>1</th>\n",
       "      <td>2018-01-01</td>\n",
       "      <td>Ohio</td>\n",
       "      <td>Belmont</td>\n",
       "      <td>Shadyside</td>\n",
       "      <td>Shadyside</td>\n",
       "      <td>Carbon monoxide</td>\n",
       "      <td>Parts per million</td>\n",
       "      <td>1.791759</td>\n",
       "      <td>0.034820</td>\n",
       "    </tr>\n",
       "    <tr>\n",
       "      <th>2</th>\n",
       "      <td>2018-01-01</td>\n",
       "      <td>Wyoming</td>\n",
       "      <td>Teton</td>\n",
       "      <td>Not in a city</td>\n",
       "      <td>Yellowstone National Park - Old Faithful Snow ...</td>\n",
       "      <td>Carbon monoxide</td>\n",
       "      <td>Parts per million</td>\n",
       "      <td>1.098612</td>\n",
       "      <td>-0.936873</td>\n",
       "    </tr>\n",
       "    <tr>\n",
       "      <th>3</th>\n",
       "      <td>2018-01-01</td>\n",
       "      <td>Pennsylvania</td>\n",
       "      <td>Philadelphia</td>\n",
       "      <td>Philadelphia</td>\n",
       "      <td>North East Waste (NEW)</td>\n",
       "      <td>Carbon monoxide</td>\n",
       "      <td>Parts per million</td>\n",
       "      <td>1.386294</td>\n",
       "      <td>-0.533584</td>\n",
       "    </tr>\n",
       "    <tr>\n",
       "      <th>4</th>\n",
       "      <td>2018-01-01</td>\n",
       "      <td>Iowa</td>\n",
       "      <td>Polk</td>\n",
       "      <td>Des Moines</td>\n",
       "      <td>CARPENTER</td>\n",
       "      <td>Carbon monoxide</td>\n",
       "      <td>Parts per million</td>\n",
       "      <td>1.386294</td>\n",
       "      <td>-0.533584</td>\n",
       "    </tr>\n",
       "  </tbody>\n",
       "</table>\n",
       "</div>"
      ],
      "text/plain": [
       "   date_local    state_name   county_name      city_name   \n",
       "0  2018-01-01       Arizona      Maricopa        Buckeye  \\\n",
       "1  2018-01-01          Ohio       Belmont      Shadyside   \n",
       "2  2018-01-01       Wyoming         Teton  Not in a city   \n",
       "3  2018-01-01  Pennsylvania  Philadelphia   Philadelphia   \n",
       "4  2018-01-01          Iowa          Polk     Des Moines   \n",
       "\n",
       "                                     local_site_name   parameter_name   \n",
       "0                                            BUCKEYE  Carbon monoxide  \\\n",
       "1                                          Shadyside  Carbon monoxide   \n",
       "2  Yellowstone National Park - Old Faithful Snow ...  Carbon monoxide   \n",
       "3                             North East Waste (NEW)  Carbon monoxide   \n",
       "4                                          CARPENTER  Carbon monoxide   \n",
       "\n",
       "    units_of_measure   aqi_log   z-score  \n",
       "0  Parts per million  2.079442  0.438109  \n",
       "1  Parts per million  1.791759  0.034820  \n",
       "2  Parts per million  1.098612 -0.936873  \n",
       "3  Parts per million  1.386294 -0.533584  \n",
       "4  Parts per million  1.386294 -0.533584  "
      ]
     },
     "execution_count": 11,
     "metadata": {},
     "output_type": "execute_result"
    }
   ],
   "source": [
    "df['z-score'] = stats.zscore(df['aqi_log'].astype('float'))\n",
    "df.head(5)"
   ]
  },
  {
   "cell_type": "code",
   "execution_count": 12,
   "id": "36c6701f-5594-42d0-ae2a-58ff9e2a83c1",
   "metadata": {},
   "outputs": [
    {
     "name": "stdout",
     "output_type": "stream",
     "text": [
      "23.846153846153847\n"
     ]
    }
   ],
   "source": [
    "lower_bound = mean_aqi_log - 1 * std_aqi_log\n",
    "upper_bound = mean_aqi_log + 1 * std_aqi_log\n",
    "\n",
    "print(((df['aqi_log'] > upper_bound) | (df['aqi_log'] < lower_bound)).mean() * 100)"
   ]
  },
  {
   "cell_type": "code",
   "execution_count": 13,
   "id": "62470b83-2ac8-482f-8f32-214da95a9519",
   "metadata": {},
   "outputs": [
    {
     "name": "stdout",
     "output_type": "stream",
     "text": [
      "23.846153846153847\n",
      "4.230769230769231\n",
      "0.38461538461538464\n"
     ]
    }
   ],
   "source": [
    "print(((df['z-score'] > 1) | (df['z-score'] < -1)).mean() * 100)\n",
    "print(((df['z-score'] > 2) | (df['z-score'] < -2)).mean() * 100)\n",
    "print(((df['z-score'] > 3) | (df['z-score'] < -3)).mean() * 100)"
   ]
  },
  {
   "cell_type": "code",
   "execution_count": 14,
   "id": "1d1f642a-60fe-493a-9cf9-0904ef598446",
   "metadata": {},
   "outputs": [
    {
     "data": {
      "text/html": [
       "<div>\n",
       "<style scoped>\n",
       "    .dataframe tbody tr th:only-of-type {\n",
       "        vertical-align: middle;\n",
       "    }\n",
       "\n",
       "    .dataframe tbody tr th {\n",
       "        vertical-align: top;\n",
       "    }\n",
       "\n",
       "    .dataframe thead th {\n",
       "        text-align: right;\n",
       "    }\n",
       "</style>\n",
       "<table border=\"1\" class=\"dataframe\">\n",
       "  <thead>\n",
       "    <tr style=\"text-align: right;\">\n",
       "      <th></th>\n",
       "      <th>date_local</th>\n",
       "      <th>state_name</th>\n",
       "      <th>county_name</th>\n",
       "      <th>city_name</th>\n",
       "      <th>local_site_name</th>\n",
       "      <th>parameter_name</th>\n",
       "      <th>units_of_measure</th>\n",
       "      <th>aqi_log</th>\n",
       "      <th>z-score</th>\n",
       "    </tr>\n",
       "  </thead>\n",
       "  <tbody>\n",
       "    <tr>\n",
       "      <th>244</th>\n",
       "      <td>2018-01-01</td>\n",
       "      <td>Arizona</td>\n",
       "      <td>Maricopa</td>\n",
       "      <td>Phoenix</td>\n",
       "      <td>WEST PHOENIX</td>\n",
       "      <td>Carbon monoxide</td>\n",
       "      <td>Parts per million</td>\n",
       "      <td>3.931826</td>\n",
       "      <td>3.034886</td>\n",
       "    </tr>\n",
       "  </tbody>\n",
       "</table>\n",
       "</div>"
      ],
      "text/plain": [
       "     date_local state_name county_name city_name local_site_name   \n",
       "244  2018-01-01    Arizona    Maricopa   Phoenix    WEST PHOENIX  \\\n",
       "\n",
       "      parameter_name   units_of_measure   aqi_log   z-score  \n",
       "244  Carbon monoxide  Parts per million  3.931826  3.034886  "
      ]
     },
     "execution_count": 14,
     "metadata": {},
     "output_type": "execute_result"
    }
   ],
   "source": [
    "df[(df['z-score'] > 3) | (df['z-score'] < -3)]"
   ]
  },
  {
   "cell_type": "markdown",
   "id": "006fd193-f5be-44dd-9ee0-64733774f946",
   "metadata": {},
   "source": [
    "## 州ごとの平均"
   ]
  },
  {
   "cell_type": "code",
   "execution_count": 15,
   "id": "84f68e73-8a39-45e3-b6a5-1faad8e18b3f",
   "metadata": {},
   "outputs": [
    {
     "data": {
      "text/plain": [
       "state_name\n",
       "Alabama                 1.098612\n",
       "Alaska                  2.249905\n",
       "Arizona                 2.445778\n",
       "Arkansas                1.386294\n",
       "California              2.413149\n",
       "Colorado                1.767876\n",
       "Connecticut              1.41574\n",
       "Delaware                1.386294\n",
       "District Of Columbia    1.242453\n",
       "Florida                 1.782627\n",
       "Georgia                 1.522261\n",
       "Hawaii                  1.866141\n",
       "Idaho                    2.32698\n",
       "Illinois                1.381045\n",
       "Indiana                 1.490944\n",
       "Iowa                    1.059351\n",
       "Kansas                  1.098612\n",
       "Kentucky                1.098612\n",
       "Louisiana                    0.0\n",
       "Maine                   1.242453\n",
       "Maryland                1.170533\n",
       "Massachusetts           1.314374\n",
       "Michigan                2.132079\n",
       "Minnesota               1.122884\n",
       "Mississippi             1.098612\n",
       "Missouri                1.329661\n",
       "Montana                 1.039721\n",
       "Nebraska                2.047172\n",
       "Nevada                  2.768652\n",
       "New Hampshire           1.098612\n",
       "New Jersey              1.614719\n",
       "New Mexico              1.935601\n",
       "New York                1.242453\n",
       "North Carolina          1.098612\n",
       "North Dakota            1.098612\n",
       "Ohio                    1.428586\n",
       "Oklahoma                1.170533\n",
       "Oregon                  1.039721\n",
       "Pennsylvania            1.257868\n",
       "Puerto Rico             1.791759\n",
       "Rhode Island            1.522261\n",
       "South Carolina          0.693147\n",
       "South Dakota            1.791759\n",
       "Tennessee               1.039721\n",
       "Texas                      1.283\n",
       "Utah                    2.291744\n",
       "Vermont                 1.341784\n",
       "Virginia                1.487661\n",
       "Washington              1.589027\n",
       "West Virginia           1.386294\n",
       "Wisconsin               1.098612\n",
       "Wyoming                 0.963457\n",
       "Name: aqi_log, dtype: object"
      ]
     },
     "execution_count": 15,
     "metadata": {},
     "output_type": "execute_result"
    }
   ],
   "source": [
    "df.groupby('state_name')['aqi_log'].mean()"
   ]
  },
  {
   "cell_type": "markdown",
   "id": "15076165-b134-4d79-9ff7-9398b682106c",
   "metadata": {},
   "source": [
    "## 2標本t検定"
   ]
  },
  {
   "cell_type": "code",
   "execution_count": 16,
   "id": "e63253eb-b162-43e5-b496-b41a09f77ae0",
   "metadata": {},
   "outputs": [
    {
     "name": "stdout",
     "output_type": "stream",
     "text": [
      "ミシガン州とワシントン州\n",
      "Ttest_indResult(statistic=2.1401979026098106, pvalue=0.14599400174281096)\n",
      "有意差なし\n",
      "ミシガン州とワイオミング州\n",
      "Ttest_indResult(statistic=5.733093159721206, pvalue=0.0005934990222768247)\n",
      "有意差あり\n"
     ]
    }
   ],
   "source": [
    "aqi_michigan = list(df[df['state_name'] == 'Michigan']['aqi_log'])\n",
    "aqi_washington = list(df[df['state_name'] == 'Washington']['aqi_log'])\n",
    "aqi_wyoming = list(df[df['state_name'] == 'Wyoming']['aqi_log'])\n",
    "\n",
    "significance_level = 0.05  # 有意水準5%\n",
    "\n",
    "print('ミシガン州とワシントン州')\n",
    "ind_michigan_washington = stats.ttest_ind(a=aqi_michigan, b=aqi_washington, equal_var=False)\n",
    "print(ind_michigan_washington)\n",
    "if ind_michigan_washington.pvalue >= significance_level:\n",
    "    print('有意差なし')\n",
    "else:\n",
    "    print('有意差あり')\n",
    "\n",
    "print('ミシガン州とワイオミング州')\n",
    "ind_michigan_wyoming = stats.ttest_ind(a=aqi_michigan, b=aqi_wyoming, equal_var=False)\n",
    "print(ind_michigan_wyoming)\n",
    "if ind_michigan_wyoming.pvalue >= significance_level:\n",
    "    print('有意差なし')\n",
    "else:\n",
    "    print('有意差あり')"
   ]
  },
  {
   "cell_type": "markdown",
   "id": "78f4a92f-a2de-4b5a-8e25-33985994ebf8",
   "metadata": {},
   "source": [
    "## BOXプロット"
   ]
  },
  {
   "cell_type": "code",
   "execution_count": 17,
   "id": "185f93e0-85f9-4bca-bcb3-05ff872e541b",
   "metadata": {},
   "outputs": [
    {
     "data": {
      "text/plain": [
       "<Axes: xlabel='state_name', ylabel='aqi_log'>"
      ]
     },
     "execution_count": 17,
     "metadata": {},
     "output_type": "execute_result"
    },
    {
     "data": {
      "image/png": "[encoded data removed]",
      "text/plain": [
       "<Figure size 640x480 with 1 Axes>"
      ]
     },
     "metadata": {},
     "output_type": "display_data"
    }
   ],
   "source": [
    "rre_states = ['Michigan','Washington','Wyoming']\n",
    "aqi_rre = df[df['state_name'].isin(rre_states)]\n",
    "\n",
    "sns.boxplot(x=aqi_rre[\"state_name\"], y=aqi_rre[\"aqi_log\"], order=rre_states)"
   ]
  },
  {
   "cell_type": "code",
   "execution_count": null,
   "id": "499b2927-11a9-4f34-b71f-2fc142a5c7a7",
   "metadata": {},
   "outputs": [],
   "source": []
  }
 ],
 "metadata": {
  "kernelspec": {
   "display_name": "Python 3 (ipykernel)",
   "language": "python",
   "name": "python3"
  },
  "language_info": {
   "codemirror_mode": {
    "name": "ipython",
    "version": 3
   },
   "file_extension": ".py",
   "mimetype": "text/x-python",
   "name": "python",
   "nbconvert_exporter": "python",
   "pygments_lexer": "ipython3",
   "version": "3.8.16"
  }
 },
 "nbformat": 4,
 "nbformat_minor": 5
}
